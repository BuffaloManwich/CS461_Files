{
  "nbformat": 4,
  "nbformat_minor": 0,
  "metadata": {
    "colab": {
      "provenance": []
    },
    "kernelspec": {
      "name": "python3",
      "display_name": "Python 3"
    },
    "language_info": {
      "name": "python"
    }
  },
  "cells": [
    {
      "cell_type": "code",
      "source": [
        "import pandas as pd"
      ],
      "metadata": {
        "id": "-NjQtkaRozHe"
      },
      "execution_count": 1,
      "outputs": []
    },
    {
      "cell_type": "markdown",
      "source": [
        "The below classes come from an article titled \"Graph Implementations in Python\"."
      ],
      "metadata": {
        "id": "a4LZLIHinCmV"
      }
    },
    {
      "cell_type": "code",
      "source": [
        "class Vertex:\n",
        "    def __init__(self, vertex_id, latitude, longitude):\n",
        "        self.id = vertex_id.replace(\"_\", \" \")  # Replace underscores with spaces (from ChatGPT)\n",
        "        # Lat and Long were added by me\n",
        "        self.latitude = latitude\n",
        "        self.longitude = longitude\n",
        "        self.neighbors = []\n",
        "\n",
        "\n",
        "    def add_neighbor(self, neighbor):\n",
        "        if neighbor not in self.neighbors:\n",
        "            self.neighbors.append(neighbor)\n",
        "\n",
        "\n",
        "class Graph:\n",
        "    def __init__(self):\n",
        "        self.vertices = {}\n",
        "\n",
        "\n",
        "    def add_vertex(self, vertex):\n",
        "        if isinstance(vertex, Vertex) and vertex.id not in self.vertices:\n",
        "            self.vertices[vertex.id] = vertex\n",
        "            return True\n",
        "        else:\n",
        "            return False\n",
        "\n",
        "\n",
        "    def add_edge(self, v1, v2):\n",
        "        # Replace underscores with spaces before adding the edge\n",
        "        v1 = v1.replace(\"_\", \" \")\n",
        "        v2 = v2.replace(\"_\", \" \")\n",
        "        if v1 in self.vertices and v2 in self.vertices:\n",
        "            self.vertices[v1].add_neighbor(v2)\n",
        "            self.vertices[v2].add_neighbor(v1)\n",
        "            return True\n",
        "        else:\n",
        "            return False\n",
        "\n",
        "\n",
        "    def get_vertices(self):\n",
        "        return self.vertices.keys()\n",
        "\n",
        "\n",
        "    def __iter__(self):\n",
        "        return iter(self.vertices.values())"
      ],
      "metadata": {
        "id": "KmHmb4ggmFYa"
      },
      "execution_count": 2,
      "outputs": []
    },
    {
      "cell_type": "markdown",
      "source": [
        "The below section was written by me."
      ],
      "metadata": {
        "id": "gZhna1j-m6DE"
      }
    },
    {
      "cell_type": "code",
      "source": [
        "# Exit commands list\n",
        "exits = [\"Quit\", \"quit\", \"QUIT\", \"Exit\", \"exit\", \"EXIT\"]"
      ],
      "metadata": {
        "id": "xDQ_jtdS8_gE"
      },
      "execution_count": 3,
      "outputs": []
    },
    {
      "cell_type": "code",
      "execution_count": 10,
      "metadata": {
        "id": "eHUyQFqpNaPI"
      },
      "outputs": [],
      "source": [
        "# User input and verification\n",
        "def get_check_input():\n",
        "  city_in = input()\n",
        "  city = input_check(city_in)\n",
        "  return city\n",
        "\n",
        "def input_check(city): # modded with assist from ChatGPT\n",
        "  if city in exits:\n",
        "    return \"Exit\"\n",
        "  else:\n",
        "    while city not in city_coor_list['city_name'].values:\n",
        "      print(\"Invalid city.\\n\")\n",
        "      city = input(\"Enter city name: \")\n",
        "      if city in exits:\n",
        "        return \"Exit\"\n",
        "    return city\n"
      ]
    },
    {
      "cell_type": "markdown",
      "source": [
        "Now I import the data from the csv and txt files."
      ],
      "metadata": {
        "id": "V9ztu55npKZr"
      }
    },
    {
      "cell_type": "code",
      "source": [
        "city_coor_list = pd.read_csv('coordinates.csv')\n",
        "print(city_coor_list.shape)\n",
        "city_coor_list.head()"
      ],
      "metadata": {
        "colab": {
          "base_uri": "https://localhost:8080/",
          "height": 223
        },
        "id": "ClINKi-UolJF",
        "outputId": "ecbfc5ef-46d2-43e7-f9b8-996d0240e311"
      },
      "execution_count": 5,
      "outputs": [
        {
          "output_type": "stream",
          "name": "stdout",
          "text": [
            "(46, 3)\n"
          ]
        },
        {
          "output_type": "execute_result",
          "data": {
            "text/plain": [
              "  city_name   latitude  longitude\n",
              "0   Abilene  38.922028 -97.266667\n",
              "1   Andover  37.686840 -97.165775\n",
              "2   Anthony  37.157517 -98.072895\n",
              "3   Argonia  37.267017 -97.772681\n",
              "4    Attica  37.242127 -98.235197"
            ],
            "text/html": [
              "\n",
              "  <div id=\"df-0dd873a6-2f6b-4ce2-9796-7bb8990a07d1\" class=\"colab-df-container\">\n",
              "    <div>\n",
              "<style scoped>\n",
              "    .dataframe tbody tr th:only-of-type {\n",
              "        vertical-align: middle;\n",
              "    }\n",
              "\n",
              "    .dataframe tbody tr th {\n",
              "        vertical-align: top;\n",
              "    }\n",
              "\n",
              "    .dataframe thead th {\n",
              "        text-align: right;\n",
              "    }\n",
              "</style>\n",
              "<table border=\"1\" class=\"dataframe\">\n",
              "  <thead>\n",
              "    <tr style=\"text-align: right;\">\n",
              "      <th></th>\n",
              "      <th>city_name</th>\n",
              "      <th>latitude</th>\n",
              "      <th>longitude</th>\n",
              "    </tr>\n",
              "  </thead>\n",
              "  <tbody>\n",
              "    <tr>\n",
              "      <th>0</th>\n",
              "      <td>Abilene</td>\n",
              "      <td>38.922028</td>\n",
              "      <td>-97.266667</td>\n",
              "    </tr>\n",
              "    <tr>\n",
              "      <th>1</th>\n",
              "      <td>Andover</td>\n",
              "      <td>37.686840</td>\n",
              "      <td>-97.165775</td>\n",
              "    </tr>\n",
              "    <tr>\n",
              "      <th>2</th>\n",
              "      <td>Anthony</td>\n",
              "      <td>37.157517</td>\n",
              "      <td>-98.072895</td>\n",
              "    </tr>\n",
              "    <tr>\n",
              "      <th>3</th>\n",
              "      <td>Argonia</td>\n",
              "      <td>37.267017</td>\n",
              "      <td>-97.772681</td>\n",
              "    </tr>\n",
              "    <tr>\n",
              "      <th>4</th>\n",
              "      <td>Attica</td>\n",
              "      <td>37.242127</td>\n",
              "      <td>-98.235197</td>\n",
              "    </tr>\n",
              "  </tbody>\n",
              "</table>\n",
              "</div>\n",
              "    <div class=\"colab-df-buttons\">\n",
              "\n",
              "  <div class=\"colab-df-container\">\n",
              "    <button class=\"colab-df-convert\" onclick=\"convertToInteractive('df-0dd873a6-2f6b-4ce2-9796-7bb8990a07d1')\"\n",
              "            title=\"Convert this dataframe to an interactive table.\"\n",
              "            style=\"display:none;\">\n",
              "\n",
              "  <svg xmlns=\"http://www.w3.org/2000/svg\" height=\"24px\" viewBox=\"0 -960 960 960\">\n",
              "    <path d=\"M120-120v-720h720v720H120Zm60-500h600v-160H180v160Zm220 220h160v-160H400v160Zm0 220h160v-160H400v160ZM180-400h160v-160H180v160Zm440 0h160v-160H620v160ZM180-180h160v-160H180v160Zm440 0h160v-160H620v160Z\"/>\n",
              "  </svg>\n",
              "    </button>\n",
              "\n",
              "  <style>\n",
              "    .colab-df-container {\n",
              "      display:flex;\n",
              "      gap: 12px;\n",
              "    }\n",
              "\n",
              "    .colab-df-convert {\n",
              "      background-color: #E8F0FE;\n",
              "      border: none;\n",
              "      border-radius: 50%;\n",
              "      cursor: pointer;\n",
              "      display: none;\n",
              "      fill: #1967D2;\n",
              "      height: 32px;\n",
              "      padding: 0 0 0 0;\n",
              "      width: 32px;\n",
              "    }\n",
              "\n",
              "    .colab-df-convert:hover {\n",
              "      background-color: #E2EBFA;\n",
              "      box-shadow: 0px 1px 2px rgba(60, 64, 67, 0.3), 0px 1px 3px 1px rgba(60, 64, 67, 0.15);\n",
              "      fill: #174EA6;\n",
              "    }\n",
              "\n",
              "    .colab-df-buttons div {\n",
              "      margin-bottom: 4px;\n",
              "    }\n",
              "\n",
              "    [theme=dark] .colab-df-convert {\n",
              "      background-color: #3B4455;\n",
              "      fill: #D2E3FC;\n",
              "    }\n",
              "\n",
              "    [theme=dark] .colab-df-convert:hover {\n",
              "      background-color: #434B5C;\n",
              "      box-shadow: 0px 1px 3px 1px rgba(0, 0, 0, 0.15);\n",
              "      filter: drop-shadow(0px 1px 2px rgba(0, 0, 0, 0.3));\n",
              "      fill: #FFFFFF;\n",
              "    }\n",
              "  </style>\n",
              "\n",
              "    <script>\n",
              "      const buttonEl =\n",
              "        document.querySelector('#df-0dd873a6-2f6b-4ce2-9796-7bb8990a07d1 button.colab-df-convert');\n",
              "      buttonEl.style.display =\n",
              "        google.colab.kernel.accessAllowed ? 'block' : 'none';\n",
              "\n",
              "      async function convertToInteractive(key) {\n",
              "        const element = document.querySelector('#df-0dd873a6-2f6b-4ce2-9796-7bb8990a07d1');\n",
              "        const dataTable =\n",
              "          await google.colab.kernel.invokeFunction('convertToInteractive',\n",
              "                                                    [key], {});\n",
              "        if (!dataTable) return;\n",
              "\n",
              "        const docLinkHtml = 'Like what you see? Visit the ' +\n",
              "          '<a target=\"_blank\" href=https://colab.research.google.com/notebooks/data_table.ipynb>data table notebook</a>'\n",
              "          + ' to learn more about interactive tables.';\n",
              "        element.innerHTML = '';\n",
              "        dataTable['output_type'] = 'display_data';\n",
              "        await google.colab.output.renderOutput(dataTable, element);\n",
              "        const docLink = document.createElement('div');\n",
              "        docLink.innerHTML = docLinkHtml;\n",
              "        element.appendChild(docLink);\n",
              "      }\n",
              "    </script>\n",
              "  </div>\n",
              "\n",
              "\n",
              "<div id=\"df-edbd4ef6-e4b3-49fa-b551-29903b9f7fee\">\n",
              "  <button class=\"colab-df-quickchart\" onclick=\"quickchart('df-edbd4ef6-e4b3-49fa-b551-29903b9f7fee')\"\n",
              "            title=\"Suggest charts\"\n",
              "            style=\"display:none;\">\n",
              "\n",
              "<svg xmlns=\"http://www.w3.org/2000/svg\" height=\"24px\"viewBox=\"0 0 24 24\"\n",
              "     width=\"24px\">\n",
              "    <g>\n",
              "        <path d=\"M19 3H5c-1.1 0-2 .9-2 2v14c0 1.1.9 2 2 2h14c1.1 0 2-.9 2-2V5c0-1.1-.9-2-2-2zM9 17H7v-7h2v7zm4 0h-2V7h2v10zm4 0h-2v-4h2v4z\"/>\n",
              "    </g>\n",
              "</svg>\n",
              "  </button>\n",
              "\n",
              "<style>\n",
              "  .colab-df-quickchart {\n",
              "      --bg-color: #E8F0FE;\n",
              "      --fill-color: #1967D2;\n",
              "      --hover-bg-color: #E2EBFA;\n",
              "      --hover-fill-color: #174EA6;\n",
              "      --disabled-fill-color: #AAA;\n",
              "      --disabled-bg-color: #DDD;\n",
              "  }\n",
              "\n",
              "  [theme=dark] .colab-df-quickchart {\n",
              "      --bg-color: #3B4455;\n",
              "      --fill-color: #D2E3FC;\n",
              "      --hover-bg-color: #434B5C;\n",
              "      --hover-fill-color: #FFFFFF;\n",
              "      --disabled-bg-color: #3B4455;\n",
              "      --disabled-fill-color: #666;\n",
              "  }\n",
              "\n",
              "  .colab-df-quickchart {\n",
              "    background-color: var(--bg-color);\n",
              "    border: none;\n",
              "    border-radius: 50%;\n",
              "    cursor: pointer;\n",
              "    display: none;\n",
              "    fill: var(--fill-color);\n",
              "    height: 32px;\n",
              "    padding: 0;\n",
              "    width: 32px;\n",
              "  }\n",
              "\n",
              "  .colab-df-quickchart:hover {\n",
              "    background-color: var(--hover-bg-color);\n",
              "    box-shadow: 0 1px 2px rgba(60, 64, 67, 0.3), 0 1px 3px 1px rgba(60, 64, 67, 0.15);\n",
              "    fill: var(--button-hover-fill-color);\n",
              "  }\n",
              "\n",
              "  .colab-df-quickchart-complete:disabled,\n",
              "  .colab-df-quickchart-complete:disabled:hover {\n",
              "    background-color: var(--disabled-bg-color);\n",
              "    fill: var(--disabled-fill-color);\n",
              "    box-shadow: none;\n",
              "  }\n",
              "\n",
              "  .colab-df-spinner {\n",
              "    border: 2px solid var(--fill-color);\n",
              "    border-color: transparent;\n",
              "    border-bottom-color: var(--fill-color);\n",
              "    animation:\n",
              "      spin 1s steps(1) infinite;\n",
              "  }\n",
              "\n",
              "  @keyframes spin {\n",
              "    0% {\n",
              "      border-color: transparent;\n",
              "      border-bottom-color: var(--fill-color);\n",
              "      border-left-color: var(--fill-color);\n",
              "    }\n",
              "    20% {\n",
              "      border-color: transparent;\n",
              "      border-left-color: var(--fill-color);\n",
              "      border-top-color: var(--fill-color);\n",
              "    }\n",
              "    30% {\n",
              "      border-color: transparent;\n",
              "      border-left-color: var(--fill-color);\n",
              "      border-top-color: var(--fill-color);\n",
              "      border-right-color: var(--fill-color);\n",
              "    }\n",
              "    40% {\n",
              "      border-color: transparent;\n",
              "      border-right-color: var(--fill-color);\n",
              "      border-top-color: var(--fill-color);\n",
              "    }\n",
              "    60% {\n",
              "      border-color: transparent;\n",
              "      border-right-color: var(--fill-color);\n",
              "    }\n",
              "    80% {\n",
              "      border-color: transparent;\n",
              "      border-right-color: var(--fill-color);\n",
              "      border-bottom-color: var(--fill-color);\n",
              "    }\n",
              "    90% {\n",
              "      border-color: transparent;\n",
              "      border-bottom-color: var(--fill-color);\n",
              "    }\n",
              "  }\n",
              "</style>\n",
              "\n",
              "  <script>\n",
              "    async function quickchart(key) {\n",
              "      const quickchartButtonEl =\n",
              "        document.querySelector('#' + key + ' button');\n",
              "      quickchartButtonEl.disabled = true;  // To prevent multiple clicks.\n",
              "      quickchartButtonEl.classList.add('colab-df-spinner');\n",
              "      try {\n",
              "        const charts = await google.colab.kernel.invokeFunction(\n",
              "            'suggestCharts', [key], {});\n",
              "      } catch (error) {\n",
              "        console.error('Error during call to suggestCharts:', error);\n",
              "      }\n",
              "      quickchartButtonEl.classList.remove('colab-df-spinner');\n",
              "      quickchartButtonEl.classList.add('colab-df-quickchart-complete');\n",
              "    }\n",
              "    (() => {\n",
              "      let quickchartButtonEl =\n",
              "        document.querySelector('#df-edbd4ef6-e4b3-49fa-b551-29903b9f7fee button');\n",
              "      quickchartButtonEl.style.display =\n",
              "        google.colab.kernel.accessAllowed ? 'block' : 'none';\n",
              "    })();\n",
              "  </script>\n",
              "</div>\n",
              "\n",
              "    </div>\n",
              "  </div>\n"
            ],
            "application/vnd.google.colaboratory.intrinsic+json": {
              "type": "dataframe",
              "variable_name": "city_coor_list",
              "summary": "{\n  \"name\": \"city_coor_list\",\n  \"rows\": 46,\n  \"fields\": [\n    {\n      \"column\": \"city_name\",\n      \"properties\": {\n        \"dtype\": \"string\",\n        \"num_unique_values\": 46,\n        \"samples\": [\n          \"Topeka\",\n          \"Lyons\",\n          \"Manhattan\"\n        ],\n        \"semantic_type\": \"\",\n        \"description\": \"\"\n      }\n    },\n    {\n      \"column\": \"latitude\",\n      \"properties\": {\n        \"dtype\": \"number\",\n        \"std\": 0.6022437876011416,\n        \"min\": 37.0190996,\n        \"max\": 39.1682049,\n        \"num_unique_values\": 46,\n        \"samples\": [\n          39.0130335,\n          38.3477177,\n          39.1682049\n        ],\n        \"semantic_type\": \"\",\n        \"description\": \"\"\n      }\n    },\n    {\n      \"column\": \"longitude\",\n      \"properties\": {\n        \"dtype\": \"number\",\n        \"std\": 0.7604039623238952,\n        \"min\": -99.3549149,\n        \"max\": -95.7782425,\n        \"num_unique_values\": 46,\n        \"samples\": [\n          -95.7782425,\n          -98.22167,\n          -96.6901159\n        ],\n        \"semantic_type\": \"\",\n        \"description\": \"\"\n      }\n    }\n  ]\n}"
            }
          },
          "metadata": {},
          "execution_count": 5
        }
      ]
    },
    {
      "cell_type": "code",
      "source": [
        "# Now I need to iterate through the dataframe object and create\n",
        "# vertex class objects for each city in the graph\n",
        "graph = Graph()\n",
        "for index, row in city_coor_list.iterrows():\n",
        "  vertex = Vertex(row['city_name'],row['latitude'],row['longitude'])\n",
        "  graph.add_vertex(vertex)\n"
      ],
      "metadata": {
        "id": "dhEABFpTruze"
      },
      "execution_count": 6,
      "outputs": []
    },
    {
      "cell_type": "code",
      "source": [
        "# Now I need to import the edge pairs from the .txt file and\n",
        "# add them as edges to the graph structure (from ChatGPT)\n",
        "\n",
        "# Load adjacency pairs from text file\n",
        "with open('Adjacencies.txt', 'r') as file:\n",
        "    adjacency_data = file.readlines()\n",
        "\n",
        "# Add edges based on adjacency list\n",
        "for line in adjacency_data:\n",
        "    cities = line.strip().split()\n",
        "    if len(cities) == 2:\n",
        "        city1, city2 = cities\n",
        "        graph.add_edge(city1, city2)\n",
        "\n",
        "# Example: print vertices and their neighbors\n",
        "for vertex in graph:\n",
        "    print(f\"City: {vertex.id}; Coordinates: {vertex.latitude},{vertex.longitude}; Neighbors: {vertex.neighbors}\")\n"
      ],
      "metadata": {
        "colab": {
          "base_uri": "https://localhost:8080/"
        },
        "id": "tJl20VvSvSVV",
        "outputId": "d63ea25e-a1d3-42e4-8f4d-230bb56e3164"
      },
      "execution_count": 7,
      "outputs": [
        {
          "output_type": "stream",
          "name": "stdout",
          "text": [
            "City: Abilene; Coordinates: 38.9220277,-97.2666667; Neighbors: ['Junction City', 'Marion', 'Salina', 'Hays']\n",
            "City: Andover; Coordinates: 37.6868403,-97.1657752; Neighbors: ['Winfield', 'Leon', 'Towanda', 'Augusta', 'Mulvane', 'Newton']\n",
            "City: Anthony; Coordinates: 37.1575168,-98.0728946; Neighbors: ['Bluff City', 'Harper', 'Argonia']\n",
            "City: Argonia; Coordinates: 37.2670166,-97.7726807; Neighbors: ['Anthony', 'Rago', 'Caldwell']\n",
            "City: Attica; Coordinates: 37.2421271,-98.2351967; Neighbors: ['Kiowa', 'Harper', 'Medicine Lodge']\n",
            "City: Augusta; Coordinates: 37.6913277,-97.0537108; Neighbors: ['Winfield', 'Andover', 'Emporia']\n",
            "City: Bluff City; Coordinates: 37.0760844,-97.8793212; Neighbors: ['Anthony', 'Kiowa', 'South Haven', 'Mayfield']\n",
            "City: Caldwell; Coordinates: 37.0346731,-97.6179436; Neighbors: ['South Haven', 'Wellington', 'Argonia']\n",
            "City: Cheney; Coordinates: 37.632882,-97.789442; Neighbors: ['Kingman', 'Pratt', 'Clearwater', 'Mulvane']\n",
            "City: Clearwater; Coordinates: 37.5166968,-97.5325458; Neighbors: ['Derby', 'Cheney']\n",
            "City: Coldwater; Coordinates: 37.2574937,-99.3549149; Neighbors: ['Greensburg', 'Pratt', 'Kiowa']\n",
            "City: Derby; Coordinates: 37.5517122,-97.2867892; Neighbors: ['Wichita', 'Clearwater']\n",
            "City: El Dorado; Coordinates: 37.8098997,-96.8943313; Neighbors: ['Towanda', 'Hillsboro', 'Newton']\n",
            "City: Emporia; Coordinates: 38.3792991,-96.2615044; Neighbors: ['Augusta', 'Newton']\n",
            "City: Florence; Coordinates: 38.2434672,-96.9378672; Neighbors: ['McPherson', 'Hutchinson']\n",
            "City: Greensburg; Coordinates: 37.6050677,-99.3005641; Neighbors: ['Coldwater']\n",
            "City: Harper; Coordinates: 37.2852232,-98.0368352; Neighbors: ['Attica', 'Anthony']\n",
            "City: Haven; Coordinates: 37.9020486,-97.7926952; Neighbors: ['Newton']\n",
            "City: Hays; Coordinates: 38.88509,-99.326202; Neighbors: ['Abilene']\n",
            "City: Hillsboro; Coordinates: 38.3494571,-97.2156415; Neighbors: ['McPherson', 'El Dorado', 'Lyons']\n",
            "City: Hutchinson; Coordinates: 38.0572062,-97.9414547; Neighbors: ['Newton', 'Pratt', 'McPherson', 'Florence']\n",
            "City: Junction City; Coordinates: 39.0379342,-96.8799338; Neighbors: ['Abilene']\n",
            "City: Kingman; Coordinates: 37.6480942,-98.1693967; Neighbors: ['Cheney']\n",
            "City: Kiowa; Coordinates: 37.0190996,-98.4940572; Neighbors: ['Bluff City', 'Attica', 'Coldwater']\n",
            "City: Leon; Coordinates: 37.6892622,-96.7916587; Neighbors: ['Andover', 'Wichita']\n",
            "City: Lyons; Coordinates: 38.3477177,-98.22167; Neighbors: ['Salina', 'Hillsboro']\n",
            "City: Manhattan; Coordinates: 39.1682049,-96.6901159; Neighbors: ['Marion', 'Topeka']\n",
            "City: Marion; Coordinates: 38.3589767,-97.0267385; Neighbors: ['Abilene', 'Manhattan', 'McPherson']\n",
            "City: Mayfield; Coordinates: 37.2618658,-97.5508871; Neighbors: ['Bluff City', 'Wellington', 'Oxford', 'Mulvane']\n",
            "City: McPherson; Coordinates: 38.3704302,-97.6917722; Neighbors: ['Florence', 'Hillsboro', 'Marion', 'Newton', 'Salina', 'Hutchinson']\n",
            "City: Medicine Lodge; Coordinates: 37.2855616,-98.5888462; Neighbors: ['Attica']\n",
            "City: Mulvane; Coordinates: 37.4868677,-97.2575929; Neighbors: ['Mayfield', 'South Haven', 'Cheney', 'Andover']\n",
            "City: Newton; Coordinates: 38.0353742,-97.4239353; Neighbors: ['Hutchinson', 'Haven', 'McPherson', 'Emporia', 'Andover', 'El Dorado']\n",
            "City: Oxford; Coordinates: 37.2734026,-97.1777267; Neighbors: ['Wellington', 'Mayfield']\n",
            "City: Pratt; Coordinates: 37.6753423,-98.7769217; Neighbors: ['Coldwater', 'Cheney', 'Hutchinson', 'Sawyer', 'Zenda']\n",
            "City: Rago; Coordinates: 37.4527946,-98.0905053; Neighbors: ['Argonia', 'Viola']\n",
            "City: Salina; Coordinates: 38.8254325,-97.702327; Neighbors: ['McPherson', 'Lyons', 'Abilene']\n",
            "City: Sawyer; Coordinates: 37.4972558,-98.6880621; Neighbors: ['Viola', 'Pratt']\n",
            "City: South Haven; Coordinates: 37.0497874,-97.4052061; Neighbors: ['Caldwell', 'Bluff City', 'Mulvane']\n",
            "City: Topeka; Coordinates: 39.0130335,-95.7782425; Neighbors: ['Manhattan']\n",
            "City: Towanda; Coordinates: 37.7971427,-97.0063152; Neighbors: ['El Dorado', 'Andover']\n",
            "City: Viola; Coordinates: 37.4827584,-97.6496081; Neighbors: ['Rago', 'Sawyer']\n",
            "City: Wellington; Coordinates: 37.2691963,-97.5199806; Neighbors: ['Mayfield', 'Caldwell', 'Oxford']\n",
            "City: Wichita; Coordinates: 37.6645257,-97.5841207; Neighbors: ['Leon', 'Derby']\n",
            "City: Winfield; Coordinates: 37.2844228,-96.999848; Neighbors: ['Augusta', 'Andover']\n",
            "City: Zenda; Coordinates: 37.4447194,-98.2849356; Neighbors: ['Pratt']\n"
          ]
        }
      ]
    },
    {
      "cell_type": "markdown",
      "source": [
        "This section is when the start and end cities are input by the user."
      ],
      "metadata": {
        "id": "Nk0t9YiVocuV"
      }
    },
    {
      "cell_type": "code",
      "source": [
        "farewell = False\n",
        "print(\"Enter the name of the starting city:\\n\" + \"\\ttype Quit to exit:\\n\")\n",
        "city_1 = get_check_input()\n",
        "if city_1 == \"Exit\":\n",
        "  print(\"Goodbye\")\n",
        "  farewell = True\n",
        "else:\n",
        "  print(\"You're starting at the city of \" + city_1)"
      ],
      "metadata": {
        "colab": {
          "base_uri": "https://localhost:8080/"
        },
        "id": "97tPMLL5ckjm",
        "outputId": "8db784be-7ac2-4d0e-c14d-d34507d1d048"
      },
      "execution_count": 8,
      "outputs": [
        {
          "output_type": "stream",
          "name": "stdout",
          "text": [
            "Enter the name of the starting city:\n",
            "\ttype Quit to exit:\n",
            "\n",
            "Attica\n",
            "You're starting at the city of Attica\n"
          ]
        }
      ]
    },
    {
      "cell_type": "code",
      "source": [
        "if farewell == False:\n",
        "  print(\"Enter the name of the ending city:\\n\" + \"\\ttype Quit to exit:\\n\")\n",
        "  city_2 = get_check_input()\n",
        "  if city_2 == \"Exit\":\n",
        "    print(\"Goodbye\")\n",
        "  else: print(\"You're ending at the city of \" + city_2)"
      ],
      "metadata": {
        "colab": {
          "base_uri": "https://localhost:8080/"
        },
        "id": "fecANe7ycyqA",
        "outputId": "d1c93c93-e40b-4441-c383-e0d09dcfc671"
      },
      "execution_count": 12,
      "outputs": [
        {
          "output_type": "stream",
          "name": "stdout",
          "text": [
            "Enter the name of the ending city:\n",
            "\ttype Quit to exit:\n",
            "\n",
            "attic\n",
            "Invalid city.\n",
            "\n",
            "Enter city name: Attica\n",
            "You're ending at the city of Attica\n"
          ]
        }
      ]
    },
    {
      "cell_type": "markdown",
      "source": [
        "From here I will switch to using the NetworkX library to complete the project in a separate notebook."
      ],
      "metadata": {
        "id": "ZlbQRKGaCmDR"
      }
    },
    {
      "cell_type": "code",
      "source": [],
      "metadata": {
        "id": "3JEVkYB7dVDU"
      },
      "execution_count": 9,
      "outputs": []
    }
  ]
}