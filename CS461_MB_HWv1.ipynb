{
  "nbformat": 4,
  "nbformat_minor": 0,
  "metadata": {
    "colab": {
      "provenance": []
    },
    "kernelspec": {
      "name": "python3",
      "display_name": "Python 3"
    },
    "language_info": {
      "name": "python"
    }
  },
  "cells": [
    {
      "cell_type": "markdown",
      "source": [
        "# Package/Library Importing"
      ],
      "metadata": {
        "id": "ejLYUkdHD7Ee"
      }
    },
    {
      "cell_type": "code",
      "execution_count": null,
      "metadata": {
        "colab": {
          "base_uri": "https://localhost:8080/"
        },
        "id": "-UI3RqG1C4Lq",
        "outputId": "366f4718-7ed4-47b7-e3c5-bbf4351a3887"
      },
      "outputs": [
        {
          "output_type": "stream",
          "name": "stdout",
          "text": [
            "Requirement already satisfied: haversine in /usr/local/lib/python3.10/dist-packages (2.8.1)\n"
          ]
        }
      ],
      "source": [
        "!pip install haversine\n",
        "import networkx as nx\n",
        "import pandas as pd\n",
        "import time\n",
        "import signal\n",
        "from haversine import haversine\n",
        "import psutil\n",
        "import matplotlib.pyplot as plt\n",
        "import heapq"
      ]
    },
    {
      "cell_type": "markdown",
      "source": [
        "# User Input functions"
      ],
      "metadata": {
        "id": "rrvjgDozD3nY"
      }
    },
    {
      "cell_type": "code",
      "source": [
        "# Exit commands list\n",
        "exits = [\"Quit\", \"quit\", \"QUIT\", \"Exit\", \"exit\", \"EXIT\"]\n",
        "\n",
        "# User input and verification\n",
        "def get_check_input():\n",
        "  city_in = input()\n",
        "  city = input_check(city_in)\n",
        "  return city\n",
        "\n",
        "def input_check(city): # modded with minimal assist from ChatGPT\n",
        "  if city in exits:\n",
        "    return \"Exit\"\n",
        "  else:\n",
        "    while city not in city_coor_list['city_name'].values:\n",
        "      print(\"Invalid city.\\n\")\n",
        "      city = input(\"Enter city name: \")\n",
        "      if city in exits: # This replaced a recursion call\n",
        "        return \"Exit\"\n",
        "    return city\n"
      ],
      "metadata": {
        "id": "J2IprFfSDEDJ"
      },
      "execution_count": null,
      "outputs": []
    },
    {
      "cell_type": "markdown",
      "source": [
        "# Importing City Data from file"
      ],
      "metadata": {
        "id": "bj8NmRebEDml"
      }
    },
    {
      "cell_type": "code",
      "source": [
        "city_coor_list = pd.read_csv('coordinates.csv')\n",
        "city_coor_list['city_name'] = city_coor_list['city_name'].str.replace(\"_\", \" \")\n",
        "print(city_coor_list.shape)\n",
        "city_coor_list.head()"
      ],
      "metadata": {
        "colab": {
          "base_uri": "https://localhost:8080/",
          "height": 223
        },
        "id": "P-NzQtvBDzpK",
        "outputId": "79aaf141-87bc-4b0e-d22a-75e11384f7ab"
      },
      "execution_count": null,
      "outputs": [
        {
          "output_type": "stream",
          "name": "stdout",
          "text": [
            "(46, 3)\n"
          ]
        },
        {
          "output_type": "execute_result",
          "data": {
            "text/plain": [
              "  city_name   latitude  longitude\n",
              "0   Abilene  38.922028 -97.266667\n",
              "1   Andover  37.686840 -97.165775\n",
              "2   Anthony  37.157517 -98.072895\n",
              "3   Argonia  37.267017 -97.772681\n",
              "4    Attica  37.242127 -98.235197"
            ],
            "text/html": [
              "\n",
              "  <div id=\"df-ef460fad-b10d-4fa2-9931-3b9e662d11f9\" class=\"colab-df-container\">\n",
              "    <div>\n",
              "<style scoped>\n",
              "    .dataframe tbody tr th:only-of-type {\n",
              "        vertical-align: middle;\n",
              "    }\n",
              "\n",
              "    .dataframe tbody tr th {\n",
              "        vertical-align: top;\n",
              "    }\n",
              "\n",
              "    .dataframe thead th {\n",
              "        text-align: right;\n",
              "    }\n",
              "</style>\n",
              "<table border=\"1\" class=\"dataframe\">\n",
              "  <thead>\n",
              "    <tr style=\"text-align: right;\">\n",
              "      <th></th>\n",
              "      <th>city_name</th>\n",
              "      <th>latitude</th>\n",
              "      <th>longitude</th>\n",
              "    </tr>\n",
              "  </thead>\n",
              "  <tbody>\n",
              "    <tr>\n",
              "      <th>0</th>\n",
              "      <td>Abilene</td>\n",
              "      <td>38.922028</td>\n",
              "      <td>-97.266667</td>\n",
              "    </tr>\n",
              "    <tr>\n",
              "      <th>1</th>\n",
              "      <td>Andover</td>\n",
              "      <td>37.686840</td>\n",
              "      <td>-97.165775</td>\n",
              "    </tr>\n",
              "    <tr>\n",
              "      <th>2</th>\n",
              "      <td>Anthony</td>\n",
              "      <td>37.157517</td>\n",
              "      <td>-98.072895</td>\n",
              "    </tr>\n",
              "    <tr>\n",
              "      <th>3</th>\n",
              "      <td>Argonia</td>\n",
              "      <td>37.267017</td>\n",
              "      <td>-97.772681</td>\n",
              "    </tr>\n",
              "    <tr>\n",
              "      <th>4</th>\n",
              "      <td>Attica</td>\n",
              "      <td>37.242127</td>\n",
              "      <td>-98.235197</td>\n",
              "    </tr>\n",
              "  </tbody>\n",
              "</table>\n",
              "</div>\n",
              "    <div class=\"colab-df-buttons\">\n",
              "\n",
              "  <div class=\"colab-df-container\">\n",
              "    <button class=\"colab-df-convert\" onclick=\"convertToInteractive('df-ef460fad-b10d-4fa2-9931-3b9e662d11f9')\"\n",
              "            title=\"Convert this dataframe to an interactive table.\"\n",
              "            style=\"display:none;\">\n",
              "\n",
              "  <svg xmlns=\"http://www.w3.org/2000/svg\" height=\"24px\" viewBox=\"0 -960 960 960\">\n",
              "    <path d=\"M120-120v-720h720v720H120Zm60-500h600v-160H180v160Zm220 220h160v-160H400v160Zm0 220h160v-160H400v160ZM180-400h160v-160H180v160Zm440 0h160v-160H620v160ZM180-180h160v-160H180v160Zm440 0h160v-160H620v160Z\"/>\n",
              "  </svg>\n",
              "    </button>\n",
              "\n",
              "  <style>\n",
              "    .colab-df-container {\n",
              "      display:flex;\n",
              "      gap: 12px;\n",
              "    }\n",
              "\n",
              "    .colab-df-convert {\n",
              "      background-color: #E8F0FE;\n",
              "      border: none;\n",
              "      border-radius: 50%;\n",
              "      cursor: pointer;\n",
              "      display: none;\n",
              "      fill: #1967D2;\n",
              "      height: 32px;\n",
              "      padding: 0 0 0 0;\n",
              "      width: 32px;\n",
              "    }\n",
              "\n",
              "    .colab-df-convert:hover {\n",
              "      background-color: #E2EBFA;\n",
              "      box-shadow: 0px 1px 2px rgba(60, 64, 67, 0.3), 0px 1px 3px 1px rgba(60, 64, 67, 0.15);\n",
              "      fill: #174EA6;\n",
              "    }\n",
              "\n",
              "    .colab-df-buttons div {\n",
              "      margin-bottom: 4px;\n",
              "    }\n",
              "\n",
              "    [theme=dark] .colab-df-convert {\n",
              "      background-color: #3B4455;\n",
              "      fill: #D2E3FC;\n",
              "    }\n",
              "\n",
              "    [theme=dark] .colab-df-convert:hover {\n",
              "      background-color: #434B5C;\n",
              "      box-shadow: 0px 1px 3px 1px rgba(0, 0, 0, 0.15);\n",
              "      filter: drop-shadow(0px 1px 2px rgba(0, 0, 0, 0.3));\n",
              "      fill: #FFFFFF;\n",
              "    }\n",
              "  </style>\n",
              "\n",
              "    <script>\n",
              "      const buttonEl =\n",
              "        document.querySelector('#df-ef460fad-b10d-4fa2-9931-3b9e662d11f9 button.colab-df-convert');\n",
              "      buttonEl.style.display =\n",
              "        google.colab.kernel.accessAllowed ? 'block' : 'none';\n",
              "\n",
              "      async function convertToInteractive(key) {\n",
              "        const element = document.querySelector('#df-ef460fad-b10d-4fa2-9931-3b9e662d11f9');\n",
              "        const dataTable =\n",
              "          await google.colab.kernel.invokeFunction('convertToInteractive',\n",
              "                                                    [key], {});\n",
              "        if (!dataTable) return;\n",
              "\n",
              "        const docLinkHtml = 'Like what you see? Visit the ' +\n",
              "          '<a target=\"_blank\" href=https://colab.research.google.com/notebooks/data_table.ipynb>data table notebook</a>'\n",
              "          + ' to learn more about interactive tables.';\n",
              "        element.innerHTML = '';\n",
              "        dataTable['output_type'] = 'display_data';\n",
              "        await google.colab.output.renderOutput(dataTable, element);\n",
              "        const docLink = document.createElement('div');\n",
              "        docLink.innerHTML = docLinkHtml;\n",
              "        element.appendChild(docLink);\n",
              "      }\n",
              "    </script>\n",
              "  </div>\n",
              "\n",
              "\n",
              "<div id=\"df-3307d477-311c-4598-b805-0cc7bffbd9a0\">\n",
              "  <button class=\"colab-df-quickchart\" onclick=\"quickchart('df-3307d477-311c-4598-b805-0cc7bffbd9a0')\"\n",
              "            title=\"Suggest charts\"\n",
              "            style=\"display:none;\">\n",
              "\n",
              "<svg xmlns=\"http://www.w3.org/2000/svg\" height=\"24px\"viewBox=\"0 0 24 24\"\n",
              "     width=\"24px\">\n",
              "    <g>\n",
              "        <path d=\"M19 3H5c-1.1 0-2 .9-2 2v14c0 1.1.9 2 2 2h14c1.1 0 2-.9 2-2V5c0-1.1-.9-2-2-2zM9 17H7v-7h2v7zm4 0h-2V7h2v10zm4 0h-2v-4h2v4z\"/>\n",
              "    </g>\n",
              "</svg>\n",
              "  </button>\n",
              "\n",
              "<style>\n",
              "  .colab-df-quickchart {\n",
              "      --bg-color: #E8F0FE;\n",
              "      --fill-color: #1967D2;\n",
              "      --hover-bg-color: #E2EBFA;\n",
              "      --hover-fill-color: #174EA6;\n",
              "      --disabled-fill-color: #AAA;\n",
              "      --disabled-bg-color: #DDD;\n",
              "  }\n",
              "\n",
              "  [theme=dark] .colab-df-quickchart {\n",
              "      --bg-color: #3B4455;\n",
              "      --fill-color: #D2E3FC;\n",
              "      --hover-bg-color: #434B5C;\n",
              "      --hover-fill-color: #FFFFFF;\n",
              "      --disabled-bg-color: #3B4455;\n",
              "      --disabled-fill-color: #666;\n",
              "  }\n",
              "\n",
              "  .colab-df-quickchart {\n",
              "    background-color: var(--bg-color);\n",
              "    border: none;\n",
              "    border-radius: 50%;\n",
              "    cursor: pointer;\n",
              "    display: none;\n",
              "    fill: var(--fill-color);\n",
              "    height: 32px;\n",
              "    padding: 0;\n",
              "    width: 32px;\n",
              "  }\n",
              "\n",
              "  .colab-df-quickchart:hover {\n",
              "    background-color: var(--hover-bg-color);\n",
              "    box-shadow: 0 1px 2px rgba(60, 64, 67, 0.3), 0 1px 3px 1px rgba(60, 64, 67, 0.15);\n",
              "    fill: var(--button-hover-fill-color);\n",
              "  }\n",
              "\n",
              "  .colab-df-quickchart-complete:disabled,\n",
              "  .colab-df-quickchart-complete:disabled:hover {\n",
              "    background-color: var(--disabled-bg-color);\n",
              "    fill: var(--disabled-fill-color);\n",
              "    box-shadow: none;\n",
              "  }\n",
              "\n",
              "  .colab-df-spinner {\n",
              "    border: 2px solid var(--fill-color);\n",
              "    border-color: transparent;\n",
              "    border-bottom-color: var(--fill-color);\n",
              "    animation:\n",
              "      spin 1s steps(1) infinite;\n",
              "  }\n",
              "\n",
              "  @keyframes spin {\n",
              "    0% {\n",
              "      border-color: transparent;\n",
              "      border-bottom-color: var(--fill-color);\n",
              "      border-left-color: var(--fill-color);\n",
              "    }\n",
              "    20% {\n",
              "      border-color: transparent;\n",
              "      border-left-color: var(--fill-color);\n",
              "      border-top-color: var(--fill-color);\n",
              "    }\n",
              "    30% {\n",
              "      border-color: transparent;\n",
              "      border-left-color: var(--fill-color);\n",
              "      border-top-color: var(--fill-color);\n",
              "      border-right-color: var(--fill-color);\n",
              "    }\n",
              "    40% {\n",
              "      border-color: transparent;\n",
              "      border-right-color: var(--fill-color);\n",
              "      border-top-color: var(--fill-color);\n",
              "    }\n",
              "    60% {\n",
              "      border-color: transparent;\n",
              "      border-right-color: var(--fill-color);\n",
              "    }\n",
              "    80% {\n",
              "      border-color: transparent;\n",
              "      border-right-color: var(--fill-color);\n",
              "      border-bottom-color: var(--fill-color);\n",
              "    }\n",
              "    90% {\n",
              "      border-color: transparent;\n",
              "      border-bottom-color: var(--fill-color);\n",
              "    }\n",
              "  }\n",
              "</style>\n",
              "\n",
              "  <script>\n",
              "    async function quickchart(key) {\n",
              "      const quickchartButtonEl =\n",
              "        document.querySelector('#' + key + ' button');\n",
              "      quickchartButtonEl.disabled = true;  // To prevent multiple clicks.\n",
              "      quickchartButtonEl.classList.add('colab-df-spinner');\n",
              "      try {\n",
              "        const charts = await google.colab.kernel.invokeFunction(\n",
              "            'suggestCharts', [key], {});\n",
              "      } catch (error) {\n",
              "        console.error('Error during call to suggestCharts:', error);\n",
              "      }\n",
              "      quickchartButtonEl.classList.remove('colab-df-spinner');\n",
              "      quickchartButtonEl.classList.add('colab-df-quickchart-complete');\n",
              "    }\n",
              "    (() => {\n",
              "      let quickchartButtonEl =\n",
              "        document.querySelector('#df-3307d477-311c-4598-b805-0cc7bffbd9a0 button');\n",
              "      quickchartButtonEl.style.display =\n",
              "        google.colab.kernel.accessAllowed ? 'block' : 'none';\n",
              "    })();\n",
              "  </script>\n",
              "</div>\n",
              "\n",
              "    </div>\n",
              "  </div>\n"
            ],
            "application/vnd.google.colaboratory.intrinsic+json": {
              "type": "dataframe",
              "variable_name": "city_coor_list",
              "summary": "{\n  \"name\": \"city_coor_list\",\n  \"rows\": 46,\n  \"fields\": [\n    {\n      \"column\": \"city_name\",\n      \"properties\": {\n        \"dtype\": \"string\",\n        \"num_unique_values\": 46,\n        \"samples\": [\n          \"Topeka\",\n          \"Lyons\",\n          \"Manhattan\"\n        ],\n        \"semantic_type\": \"\",\n        \"description\": \"\"\n      }\n    },\n    {\n      \"column\": \"latitude\",\n      \"properties\": {\n        \"dtype\": \"number\",\n        \"std\": 0.6022437876011416,\n        \"min\": 37.0190996,\n        \"max\": 39.1682049,\n        \"num_unique_values\": 46,\n        \"samples\": [\n          39.0130335,\n          38.3477177,\n          39.1682049\n        ],\n        \"semantic_type\": \"\",\n        \"description\": \"\"\n      }\n    },\n    {\n      \"column\": \"longitude\",\n      \"properties\": {\n        \"dtype\": \"number\",\n        \"std\": 0.7604039623238952,\n        \"min\": -99.3549149,\n        \"max\": -95.7782425,\n        \"num_unique_values\": 46,\n        \"samples\": [\n          -95.7782425,\n          -98.22167,\n          -96.6901159\n        ],\n        \"semantic_type\": \"\",\n        \"description\": \"\"\n      }\n    }\n  ]\n}"
            }
          },
          "metadata": {},
          "execution_count": 4
        }
      ]
    },
    {
      "cell_type": "markdown",
      "source": [
        "# Build the Initial Graph"
      ],
      "metadata": {
        "id": "Gk98TGKVEaxD"
      }
    },
    {
      "cell_type": "code",
      "source": [
        "# Initialize the graph\n",
        "graph = nx.Graph()\n",
        "\n",
        "# Add vertices to the graph\n",
        "for index, row in city_coor_list.iterrows():\n",
        "    graph.add_node(row['city_name'], latitude=row['latitude'], longitude=row['longitude'])\n",
        "\n",
        "# Load adjacency pairs from text file and add edges\n",
        "with open('Adjacencies.txt', 'r') as file:\n",
        "    adjacency_data = file.readlines()\n",
        "\n",
        "for line in adjacency_data:\n",
        "    cities = line.strip().split()\n",
        "    if len(cities) == 2:\n",
        "        city1, city2 = cities\n",
        "        graph.add_edge(city1.replace(\"_\", \" \"), city2.replace(\"_\", \" \"))\n",
        "\n",
        "# Convert to a bidirectional graph\n",
        "G = nx.DiGraph(graph)"
      ],
      "metadata": {
        "id": "Z-X-w2iREIkl"
      },
      "execution_count": null,
      "outputs": []
    },
    {
      "cell_type": "code",
      "source": [
        "# Print the graph to verify vertices and their connections\n",
        "print(\"\\nGraph Structure:\")\n",
        "print(graph.nodes(data=True))\n",
        "print(graph.edges())"
      ],
      "metadata": {
        "colab": {
          "base_uri": "https://localhost:8080/"
        },
        "id": "vuaYzPs5GVLf",
        "outputId": "dfadd3ed-aa3e-4b8a-eb77-e9753e98f9a6"
      },
      "execution_count": null,
      "outputs": [
        {
          "output_type": "stream",
          "name": "stdout",
          "text": [
            "\n",
            "Graph Structure:\n",
            "[('Abilene', {'latitude': 38.9220277, 'longitude': -97.2666667}), ('Andover', {'latitude': 37.6868403, 'longitude': -97.1657752}), ('Anthony', {'latitude': 37.1575168, 'longitude': -98.0728946}), ('Argonia', {'latitude': 37.2670166, 'longitude': -97.7726807}), ('Attica', {'latitude': 37.2421271, 'longitude': -98.2351967}), ('Augusta', {'latitude': 37.6913277, 'longitude': -97.0537108}), ('Bluff City', {'latitude': 37.0760844, 'longitude': -97.8793212}), ('Caldwell', {'latitude': 37.0346731, 'longitude': -97.6179436}), ('Cheney', {'latitude': 37.632882, 'longitude': -97.789442}), ('Clearwater', {'latitude': 37.5166968, 'longitude': -97.5325458}), ('Coldwater', {'latitude': 37.2574937, 'longitude': -99.3549149}), ('Derby', {'latitude': 37.5517122, 'longitude': -97.2867892}), ('El Dorado', {'latitude': 37.8098997, 'longitude': -96.8943313}), ('Emporia', {'latitude': 38.3792991, 'longitude': -96.2615044}), ('Florence', {'latitude': 38.2434672, 'longitude': -96.9378672}), ('Greensburg', {'latitude': 37.6050677, 'longitude': -99.3005641}), ('Harper', {'latitude': 37.2852232, 'longitude': -98.0368352}), ('Haven', {'latitude': 37.9020486, 'longitude': -97.7926952}), ('Hays', {'latitude': 38.88509, 'longitude': -99.326202}), ('Hillsboro', {'latitude': 38.3494571, 'longitude': -97.2156415}), ('Hutchinson', {'latitude': 38.0572062, 'longitude': -97.9414547}), ('Junction City', {'latitude': 39.0379342, 'longitude': -96.8799338}), ('Kingman', {'latitude': 37.6480942, 'longitude': -98.1693967}), ('Kiowa', {'latitude': 37.0190996, 'longitude': -98.4940572}), ('Leon', {'latitude': 37.6892622, 'longitude': -96.7916587}), ('Lyons', {'latitude': 38.3477177, 'longitude': -98.22167}), ('Manhattan', {'latitude': 39.1682049, 'longitude': -96.6901159}), ('Marion', {'latitude': 38.3589767, 'longitude': -97.0267385}), ('Mayfield', {'latitude': 37.2618658, 'longitude': -97.5508871}), ('McPherson', {'latitude': 38.3704302, 'longitude': -97.6917722}), ('Medicine Lodge', {'latitude': 37.2855616, 'longitude': -98.5888462}), ('Mulvane', {'latitude': 37.4868677, 'longitude': -97.2575929}), ('Newton', {'latitude': 38.0353742, 'longitude': -97.4239353}), ('Oxford', {'latitude': 37.2734026, 'longitude': -97.1777267}), ('Pratt', {'latitude': 37.6753423, 'longitude': -98.7769217}), ('Rago', {'latitude': 37.4527946, 'longitude': -98.0905053}), ('Salina', {'latitude': 38.8254325, 'longitude': -97.702327}), ('Sawyer', {'latitude': 37.4972558, 'longitude': -98.6880621}), ('South Haven', {'latitude': 37.0497874, 'longitude': -97.4052061}), ('Topeka', {'latitude': 39.0130335, 'longitude': -95.7782425}), ('Towanda', {'latitude': 37.7971427, 'longitude': -97.0063152}), ('Viola', {'latitude': 37.4827584, 'longitude': -97.6496081}), ('Wellington', {'latitude': 37.2691963, 'longitude': -97.5199806}), ('Wichita', {'latitude': 37.6645257, 'longitude': -97.5841207}), ('Winfield', {'latitude': 37.2844228, 'longitude': -96.999848}), ('Zenda', {'latitude': 37.4447194, 'longitude': -98.2849356})]\n",
            "[('Abilene', 'Junction City'), ('Abilene', 'Marion'), ('Abilene', 'Salina'), ('Abilene', 'Hays'), ('Andover', 'Winfield'), ('Andover', 'Leon'), ('Andover', 'Towanda'), ('Andover', 'Augusta'), ('Andover', 'Mulvane'), ('Andover', 'Newton'), ('Anthony', 'Bluff City'), ('Anthony', 'Harper'), ('Anthony', 'Argonia'), ('Argonia', 'Rago'), ('Argonia', 'Caldwell'), ('Attica', 'Kiowa'), ('Attica', 'Harper'), ('Attica', 'Medicine Lodge'), ('Augusta', 'Winfield'), ('Augusta', 'Emporia'), ('Bluff City', 'Kiowa'), ('Bluff City', 'South Haven'), ('Bluff City', 'Mayfield'), ('Caldwell', 'South Haven'), ('Caldwell', 'Wellington'), ('Cheney', 'Kingman'), ('Cheney', 'Pratt'), ('Cheney', 'Clearwater'), ('Cheney', 'Mulvane'), ('Clearwater', 'Derby'), ('Coldwater', 'Greensburg'), ('Coldwater', 'Pratt'), ('Coldwater', 'Kiowa'), ('Derby', 'Wichita'), ('El Dorado', 'Towanda'), ('El Dorado', 'Hillsboro'), ('El Dorado', 'Newton'), ('Emporia', 'Newton'), ('Florence', 'McPherson'), ('Florence', 'Hutchinson'), ('Haven', 'Newton'), ('Hillsboro', 'McPherson'), ('Hillsboro', 'Lyons'), ('Hutchinson', 'Newton'), ('Hutchinson', 'Pratt'), ('Hutchinson', 'McPherson'), ('Leon', 'Wichita'), ('Lyons', 'Salina'), ('Manhattan', 'Marion'), ('Manhattan', 'Topeka'), ('Marion', 'McPherson'), ('Mayfield', 'Wellington'), ('Mayfield', 'Oxford'), ('Mayfield', 'Mulvane'), ('McPherson', 'Newton'), ('McPherson', 'Salina'), ('Mulvane', 'South Haven'), ('Oxford', 'Wellington'), ('Pratt', 'Sawyer'), ('Pratt', 'Zenda'), ('Rago', 'Viola'), ('Sawyer', 'Viola')]\n"
          ]
        }
      ]
    },
    {
      "cell_type": "markdown",
      "source": [
        "# Sample function to perform test search"
      ],
      "metadata": {
        "id": "gerDrG6M85uf"
      }
    },
    {
      "cell_type": "code",
      "source": [
        "# Note: This entire cell is mostly from ChatGPT.\n",
        "# This is a sample run of the graph/monitoring functionality.\n",
        "# Modifications were made by myself.\n",
        "\n",
        "# Function to handle timeouts\n",
        "class TimeoutException(Exception):\n",
        "    pass\n",
        "\n",
        "def timeout_handler(signum, frame):\n",
        "    raise TimeoutException()\n",
        "\n",
        "# Setting the timeout\n",
        "signal.signal(signal.SIGALRM, timeout_handler)\n",
        "timeout_duration = 5  # 5000 milliseconds\n",
        "signal.setitimer(signal.ITIMER_REAL, timeout_duration)\n",
        "\n",
        "try:\n",
        "    # Start timing the search\n",
        "    start_time = time.time()\n",
        "\n",
        "    # Perform BFS\n",
        "    bfs_edges = list(nx.bfs_edges(graph, source='Andover'))\n",
        "\n",
        "    # Calculate elapsed time\n",
        "    elapsed_time = time.time() - start_time\n",
        "\n",
        "    # Track memory usage\n",
        "    memory_usage = psutil.Process().memory_info().rss / (1024 * 1024)  # in MB\n",
        "\n",
        "    # Distance calculation (example for edges in BFS path)\n",
        "    total_distance = 0\n",
        "    for u, v in bfs_edges:\n",
        "        u_coords = (graph.nodes[u]['latitude'], graph.nodes[u]['longitude'])\n",
        "        v_coords = (graph.nodes[v]['latitude'], graph.nodes[v]['longitude'])\n",
        "        total_distance += haversine(u_coords, v_coords)\n",
        "\n",
        "    # Print search results\n",
        "    print(f\"BFS Traversal from Andover: {bfs_edges}\")\n",
        "    print(f\"Elapsed Time: {elapsed_time:.4f} seconds\")\n",
        "    print(f\"Memory Usage: {memory_usage:.2f} MB\")\n",
        "    print(f\"Total Distance Traveled: {total_distance:.2f} km\")\n",
        "\n",
        "except TimeoutException:\n",
        "    print(\"The search exceeded the allowed time and was stopped.\")"
      ],
      "metadata": {
        "colab": {
          "base_uri": "https://localhost:8080/"
        },
        "id": "mu3RPjBeGh7C",
        "outputId": "c217bb25-30e2-4bc2-f213-1b3adfccb4bc"
      },
      "execution_count": null,
      "outputs": [
        {
          "output_type": "stream",
          "name": "stdout",
          "text": [
            "BFS Traversal from Andover: [('Andover', 'Winfield'), ('Andover', 'Leon'), ('Andover', 'Towanda'), ('Andover', 'Augusta'), ('Andover', 'Mulvane'), ('Andover', 'Newton'), ('Leon', 'Wichita'), ('Towanda', 'El Dorado'), ('Augusta', 'Emporia'), ('Mulvane', 'Mayfield'), ('Mulvane', 'South Haven'), ('Mulvane', 'Cheney'), ('Newton', 'Hutchinson'), ('Newton', 'Haven'), ('Newton', 'McPherson'), ('Wichita', 'Derby'), ('El Dorado', 'Hillsboro'), ('Mayfield', 'Bluff City'), ('Mayfield', 'Wellington'), ('Mayfield', 'Oxford'), ('South Haven', 'Caldwell'), ('Cheney', 'Kingman'), ('Cheney', 'Pratt'), ('Cheney', 'Clearwater'), ('Hutchinson', 'Florence'), ('McPherson', 'Marion'), ('McPherson', 'Salina'), ('Hillsboro', 'Lyons'), ('Bluff City', 'Anthony'), ('Bluff City', 'Kiowa'), ('Caldwell', 'Argonia'), ('Pratt', 'Coldwater'), ('Pratt', 'Sawyer'), ('Pratt', 'Zenda'), ('Marion', 'Abilene'), ('Marion', 'Manhattan'), ('Anthony', 'Harper'), ('Kiowa', 'Attica'), ('Argonia', 'Rago'), ('Coldwater', 'Greensburg'), ('Sawyer', 'Viola'), ('Abilene', 'Junction City'), ('Abilene', 'Hays'), ('Manhattan', 'Topeka'), ('Attica', 'Medicine Lodge')]\n",
            "Elapsed Time: 0.0005 seconds\n",
            "Memory Usage: 272.21 MB\n",
            "Total Distance Traveled: 2184.89 km\n"
          ]
        }
      ]
    },
    {
      "cell_type": "code",
      "source": [
        "# subax1 = plt.subplot(121)\n",
        "# nx.draw(G, with_labels=True, font_weight='bold')\n",
        "# subax2 = plt.subplot(122)\n",
        "# nx.draw_shell(G, nlist=[range(5, 10), range(5)], with_labels=True, font_weight='bold')"
      ],
      "metadata": {
        "id": "iC2tx6XuJFND"
      },
      "execution_count": null,
      "outputs": []
    },
    {
      "cell_type": "code",
      "source": [
        "def directions():\n",
        "  print(\"Enter the name of the starting city:\\n\" + \"\\ttype Quit to exit:\\n\")\n",
        "  city_1 = get_check_input()\n",
        "  if city_1 == \"Exit\":\n",
        "    print(\"Goodbye\")\n",
        "    farewell = True\n",
        "  else:\n",
        "    print(\"You're starting at the city of \" + city_1)\n",
        "\n",
        "  if farewell == False:\n",
        "    print(\"Enter the name of the ending city:\\n\" + \"\\ttype Quit to exit:\\n\")\n",
        "    city_2 = get_check_input()\n",
        "    if city_2 == \"Exit\":\n",
        "      print(\"Goodbye\")\n",
        "      farewell = True\n",
        "    else: print(\"You're ending at the city of \" + city_2)\n",
        "  else: city_2 = \"Exit\"\n",
        "  return city_1, city_2"
      ],
      "metadata": {
        "id": "qdqUHoTqrkQ9"
      },
      "execution_count": null,
      "outputs": []
    },
    {
      "cell_type": "code",
      "source": [
        "def search_method():\n",
        "  print(\"What search method would you like to use?\\n\\t1)Breadth-First\\n\\t2)Depth-First\\n\\t3)Iterative Deepening DFS\\n\\t4)Best-First\\n\\t5)A*star\")\n",
        "  print(\"6) Choose New Cities\")\n",
        "  print(\"Type Quit to exit\")\n",
        "  choice = input()\n",
        "  if choice in exits:\n",
        "    print(\"Goodbye\")\n",
        "    farewell = True\n",
        "  elif choice == \"1\":\n",
        "    print(\"Breadth-First Search\")\n",
        "  elif choice == \"2\":\n",
        "    print(\"Depth-First Search\")\n",
        "  elif choice == \"3\":\n",
        "    print(\"Iterative Deepening DFS\")\n",
        "  elif choice == \"4\":\n",
        "    print(\"Best-First Search\")\n",
        "  elif choice == \"5\":\n",
        "    print(\"A*star\")\n",
        "  elif choice == \"6\"\n",
        "    print(\"Choose New Cities\")\n",
        "  else:\n",
        "    print(\"Invalid choice\\nPlease enter a valid choice\")\n",
        "    choice = input()\n",
        "  return choice"
      ],
      "metadata": {
        "id": "45PMZYxytKhc"
      },
      "execution_count": null,
      "outputs": []
    },
    {
      "cell_type": "code",
      "source": [],
      "metadata": {
        "id": "8ZVSmWrH-Vv9"
      },
      "execution_count": null,
      "outputs": []
    },
    {
      "cell_type": "code",
      "source": [],
      "metadata": {
        "colab": {
          "base_uri": "https://localhost:8080/",
          "height": 391
        },
        "id": "JY0Uw5sRt-bD",
        "outputId": "367ee4a4-a2c5-429b-a6b3-cc4244b48b32"
      },
      "execution_count": null,
      "outputs": [
        {
          "output_type": "stream",
          "name": "stdout",
          "text": [
            "Enter the name of the starting city:\n",
            "\ttype Quit to exit:\n",
            "\n"
          ]
        },
        {
          "output_type": "error",
          "ename": "KeyboardInterrupt",
          "evalue": "Interrupted by user",
          "traceback": [
            "\u001b[0;31m---------------------------------------------------------------------------\u001b[0m",
            "\u001b[0;31mKeyboardInterrupt\u001b[0m                         Traceback (most recent call last)",
            "\u001b[0;32m<ipython-input-11-5e376cd91717>\u001b[0m in \u001b[0;36m<cell line: 2>\u001b[0;34m()\u001b[0m\n\u001b[1;32m      1\u001b[0m \u001b[0mfarewell\u001b[0m \u001b[0;34m=\u001b[0m \u001b[0;32mFalse\u001b[0m\u001b[0;34m\u001b[0m\u001b[0;34m\u001b[0m\u001b[0m\n\u001b[1;32m      2\u001b[0m \u001b[0;32mwhile\u001b[0m \u001b[0mfarewell\u001b[0m \u001b[0;34m==\u001b[0m \u001b[0;32mFalse\u001b[0m\u001b[0;34m:\u001b[0m\u001b[0;34m\u001b[0m\u001b[0;34m\u001b[0m\u001b[0m\n\u001b[0;32m----> 3\u001b[0;31m   \u001b[0mcity_1\u001b[0m\u001b[0;34m,\u001b[0m \u001b[0mcity_2\u001b[0m \u001b[0;34m=\u001b[0m \u001b[0mdirections\u001b[0m\u001b[0;34m(\u001b[0m\u001b[0;34m)\u001b[0m\u001b[0;34m\u001b[0m\u001b[0;34m\u001b[0m\u001b[0m\n\u001b[0m\u001b[1;32m      4\u001b[0m \u001b[0;34m\u001b[0m\u001b[0m\n",
            "\u001b[0;32m<ipython-input-9-6f3b3e34a04f>\u001b[0m in \u001b[0;36mdirections\u001b[0;34m()\u001b[0m\n\u001b[1;32m      1\u001b[0m \u001b[0;32mdef\u001b[0m \u001b[0mdirections\u001b[0m\u001b[0;34m(\u001b[0m\u001b[0;34m)\u001b[0m\u001b[0;34m:\u001b[0m\u001b[0;34m\u001b[0m\u001b[0;34m\u001b[0m\u001b[0m\n\u001b[1;32m      2\u001b[0m   \u001b[0mprint\u001b[0m\u001b[0;34m(\u001b[0m\u001b[0;34m\"Enter the name of the starting city:\\n\"\u001b[0m \u001b[0;34m+\u001b[0m \u001b[0;34m\"\\ttype Quit to exit:\\n\"\u001b[0m\u001b[0;34m)\u001b[0m\u001b[0;34m\u001b[0m\u001b[0;34m\u001b[0m\u001b[0m\n\u001b[0;32m----> 3\u001b[0;31m   \u001b[0mcity_1\u001b[0m \u001b[0;34m=\u001b[0m \u001b[0mget_check_input\u001b[0m\u001b[0;34m(\u001b[0m\u001b[0;34m)\u001b[0m\u001b[0;34m\u001b[0m\u001b[0;34m\u001b[0m\u001b[0m\n\u001b[0m\u001b[1;32m      4\u001b[0m   \u001b[0;32mif\u001b[0m \u001b[0mcity_1\u001b[0m \u001b[0;34m==\u001b[0m \u001b[0;34m\"Exit\"\u001b[0m\u001b[0;34m:\u001b[0m\u001b[0;34m\u001b[0m\u001b[0;34m\u001b[0m\u001b[0m\n\u001b[1;32m      5\u001b[0m     \u001b[0mprint\u001b[0m\u001b[0;34m(\u001b[0m\u001b[0;34m\"Goodbye\"\u001b[0m\u001b[0;34m)\u001b[0m\u001b[0;34m\u001b[0m\u001b[0;34m\u001b[0m\u001b[0m\n",
            "\u001b[0;32m<ipython-input-3-046738950dea>\u001b[0m in \u001b[0;36mget_check_input\u001b[0;34m()\u001b[0m\n\u001b[1;32m      4\u001b[0m \u001b[0;31m# User input and verification\u001b[0m\u001b[0;34m\u001b[0m\u001b[0;34m\u001b[0m\u001b[0m\n\u001b[1;32m      5\u001b[0m \u001b[0;32mdef\u001b[0m \u001b[0mget_check_input\u001b[0m\u001b[0;34m(\u001b[0m\u001b[0;34m)\u001b[0m\u001b[0;34m:\u001b[0m\u001b[0;34m\u001b[0m\u001b[0;34m\u001b[0m\u001b[0m\n\u001b[0;32m----> 6\u001b[0;31m   \u001b[0mcity_in\u001b[0m \u001b[0;34m=\u001b[0m \u001b[0minput\u001b[0m\u001b[0;34m(\u001b[0m\u001b[0;34m)\u001b[0m\u001b[0;34m\u001b[0m\u001b[0;34m\u001b[0m\u001b[0m\n\u001b[0m\u001b[1;32m      7\u001b[0m   \u001b[0mcity\u001b[0m \u001b[0;34m=\u001b[0m \u001b[0minput_check\u001b[0m\u001b[0;34m(\u001b[0m\u001b[0mcity_in\u001b[0m\u001b[0;34m)\u001b[0m\u001b[0;34m\u001b[0m\u001b[0;34m\u001b[0m\u001b[0m\n\u001b[1;32m      8\u001b[0m   \u001b[0;32mreturn\u001b[0m \u001b[0mcity\u001b[0m\u001b[0;34m\u001b[0m\u001b[0;34m\u001b[0m\u001b[0m\n",
            "\u001b[0;32m/usr/local/lib/python3.10/dist-packages/ipykernel/kernelbase.py\u001b[0m in \u001b[0;36mraw_input\u001b[0;34m(self, prompt)\u001b[0m\n\u001b[1;32m    849\u001b[0m                 \u001b[0;34m\"raw_input was called, but this frontend does not support input requests.\"\u001b[0m\u001b[0;34m\u001b[0m\u001b[0;34m\u001b[0m\u001b[0m\n\u001b[1;32m    850\u001b[0m             )\n\u001b[0;32m--> 851\u001b[0;31m         return self._input_request(str(prompt),\n\u001b[0m\u001b[1;32m    852\u001b[0m             \u001b[0mself\u001b[0m\u001b[0;34m.\u001b[0m\u001b[0m_parent_ident\u001b[0m\u001b[0;34m,\u001b[0m\u001b[0;34m\u001b[0m\u001b[0;34m\u001b[0m\u001b[0m\n\u001b[1;32m    853\u001b[0m             \u001b[0mself\u001b[0m\u001b[0;34m.\u001b[0m\u001b[0m_parent_header\u001b[0m\u001b[0;34m,\u001b[0m\u001b[0;34m\u001b[0m\u001b[0;34m\u001b[0m\u001b[0m\n",
            "\u001b[0;32m/usr/local/lib/python3.10/dist-packages/ipykernel/kernelbase.py\u001b[0m in \u001b[0;36m_input_request\u001b[0;34m(self, prompt, ident, parent, password)\u001b[0m\n\u001b[1;32m    893\u001b[0m             \u001b[0;32mexcept\u001b[0m \u001b[0mKeyboardInterrupt\u001b[0m\u001b[0;34m:\u001b[0m\u001b[0;34m\u001b[0m\u001b[0;34m\u001b[0m\u001b[0m\n\u001b[1;32m    894\u001b[0m                 \u001b[0;31m# re-raise KeyboardInterrupt, to truncate traceback\u001b[0m\u001b[0;34m\u001b[0m\u001b[0;34m\u001b[0m\u001b[0m\n\u001b[0;32m--> 895\u001b[0;31m                 \u001b[0;32mraise\u001b[0m \u001b[0mKeyboardInterrupt\u001b[0m\u001b[0;34m(\u001b[0m\u001b[0;34m\"Interrupted by user\"\u001b[0m\u001b[0;34m)\u001b[0m \u001b[0;32mfrom\u001b[0m \u001b[0;32mNone\u001b[0m\u001b[0;34m\u001b[0m\u001b[0;34m\u001b[0m\u001b[0m\n\u001b[0m\u001b[1;32m    896\u001b[0m             \u001b[0;32mexcept\u001b[0m \u001b[0mException\u001b[0m \u001b[0;32mas\u001b[0m \u001b[0me\u001b[0m\u001b[0;34m:\u001b[0m\u001b[0;34m\u001b[0m\u001b[0;34m\u001b[0m\u001b[0m\n\u001b[1;32m    897\u001b[0m                 \u001b[0mself\u001b[0m\u001b[0;34m.\u001b[0m\u001b[0mlog\u001b[0m\u001b[0;34m.\u001b[0m\u001b[0mwarning\u001b[0m\u001b[0;34m(\u001b[0m\u001b[0;34m\"Invalid Message:\"\u001b[0m\u001b[0;34m,\u001b[0m \u001b[0mexc_info\u001b[0m\u001b[0;34m=\u001b[0m\u001b[0;32mTrue\u001b[0m\u001b[0;34m)\u001b[0m\u001b[0;34m\u001b[0m\u001b[0;34m\u001b[0m\u001b[0m\n",
            "\u001b[0;31mKeyboardInterrupt\u001b[0m: Interrupted by user"
          ]
        }
      ]
    }
  ]
}